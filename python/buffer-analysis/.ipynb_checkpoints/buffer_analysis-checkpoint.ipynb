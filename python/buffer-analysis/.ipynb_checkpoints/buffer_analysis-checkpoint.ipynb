{
 "cells": [
  {
   "cell_type": "markdown",
   "source": [
    "<h1>Buffer Analysis and Optimization</h1>"
   ],
   "metadata": {
    "collapsed": false
   },
   "id": "3a0d83c809da6877"
  },
  {
   "cell_type": "code",
   "execution_count": null,
   "outputs": [],
   "source": [
    "from properties import nr_runs, l_min_pmos, w_min_pmos, l_min_nmos, w_min_nmos, S1, S2, S_LOAD, tran, rit_models, save_s1, save_s2, energy_connected, energy_disconnected, rise_delay_connected, rise_delay_disconnected, fall_delay_connected, fall_delay_disconnected\n",
    "from utils.conversion import to_order, Order\n",
    "from utils.paths import ltspice, images\n",
    "from utils.patterns import s1_pattern, s2_pattern, energy_connected_pattern, energy_disconnected_pattern, rise_delay_connected_pattern, fall_delay_connected_pattern, rise_delay_disconnected_pattern, fall_delay_disconnected_pattern\n",
    "from utils.check import check_file, check_image\n",
    "from optimization.optimize_function import optimize_considering_delay\n",
    "from PyLTSpice import RawRead, SimRunner, SpiceEditor\n",
    "import re\n",
    "import statistics as st\n",
    "import matplotlib.pyplot as plt\n",
    "import os\n",
    "from IPython.display import Image, display"
   ],
   "metadata": {
    "collapsed": false,
    "is_executing": true,
    "ExecuteTime": {
     "start_time": "2023-11-08T21:05:35.217871100Z"
    }
   },
   "id": "25434ba3487da393"
  },
  {
   "cell_type": "markdown",
   "source": [
    "<h2>Buffer Analysis</h2>"
   ],
   "metadata": {
    "collapsed": false
   },
   "id": "71d0d081e1e27b00"
  },
  {
   "cell_type": "code",
   "execution_count": null,
   "outputs": [],
   "source": [
    "buffer_raw_file_path = os.path.join(ltspice, \"buffer/standard/buffer.raw\")\n",
    "check_file(buffer_raw_file_path)\n",
    "buffer_ltr = RawRead(buffer_raw_file_path)\n",
    "\n",
    "buffer_asc_file_path = os.path.join(ltspice, \"buffer/standard/buffer.asc\")\n",
    "check_file(buffer_asc_file_path)\n",
    "buffer_netlist = SpiceEditor(buffer_asc_file_path)\n",
    "\n",
    "buffer_image_path = os.path.join(images, \"buffer.png\")\n",
    "display(Image(buffer_image_path))"
   ],
   "metadata": {
    "collapsed": false,
    "is_executing": true
   },
   "id": "73fa10d67b30ff16"
  },
  {
   "cell_type": "code",
   "execution_count": null,
   "outputs": [],
   "source": [
    "buffer_netlist.set_parameter('l_min_pmos', l_min_pmos)\n",
    "buffer_netlist.set_parameter('w_min_pmos', w_min_pmos)\n",
    "buffer_netlist.set_parameter('l_min_nmos', l_min_nmos)\n",
    "buffer_netlist.set_parameter('w_min_nmos', w_min_nmos)\n",
    "buffer_netlist.set_parameter('S1', S1)\n",
    "buffer_netlist.set_parameter('S2', S2)\n",
    "buffer_netlist.set_parameter('S_LOAD', S_LOAD)\n",
    "buffer_netlist.add_instructions(\n",
    "                                rit_models,\n",
    "                                tran,\n",
    "                                f\".step param run 1 {nr_runs} 1\",\n",
    "                                save_s1,\n",
    "                                save_s2,\n",
    "                                energy_connected(13, 22),\n",
    "                                rise_delay_connected(),\n",
    "                                fall_delay_connected()\n",
    "                        )\n",
    "buffer_runner = SimRunner(output_folder=\"data/buffer/standard/\")\n",
    "buffer_runner.run(netlist=buffer_netlist, timeout=3600)\n",
    "print('Successful/Total Simulations: ' + str(buffer_runner.okSim) + '/' + str(buffer_runner.runno))\n",
    "\n",
    "buffer_log = \"\"\n",
    "for buffer_raw, buffer_log in buffer_runner:\n",
    "    print(\"Raw file: %s, Log file: %s\" % (buffer_raw, buffer_log))"
   ],
   "metadata": {
    "collapsed": false,
    "is_executing": true
   },
   "id": "2753d55ae0fc5f3a"
  },
  {
   "cell_type": "code",
   "execution_count": null,
   "outputs": [],
   "source": [
    "v_in_buffer = buffer_ltr.get_trace(\"V(in)\")\n",
    "v_out_buffer = buffer_ltr.get_trace(\"V(out)\")\n",
    "v_supply_buffer = buffer_ltr.get_trace(\"V(supply)\")\n",
    "time = buffer_ltr.get_trace('time')\n",
    "steps = buffer_ltr.get_steps()\n",
    "\n",
    "plt.figure(figsize=(16, 4))\n",
    "for step in range(len(steps)):\n",
    "    plt.plot(time.get_wave(step), v_in_buffer.get_wave(step), label=steps[step], color='blue')\n",
    "    plt.plot(time.get_wave(step), v_out_buffer.get_wave(step), label=steps[step], color='red')\n",
    "    plt.plot(time.get_wave(step), v_supply_buffer.get_wave(step), label=steps[step], color='green')\n",
    "plt.legend([\"V(in)\", \"V(out)\", \"V(supply)\"])\n",
    "buffer_simulation_path_image = os.path.join(images, \"buffer_simulation.png\")\n",
    "check_image(buffer_simulation_path_image)\n",
    "plt.savefig(buffer_simulation_path_image)\n",
    "plt.show()"
   ],
   "metadata": {
    "collapsed": false,
    "is_executing": true
   },
   "id": "7a5ee9206e83b6e7"
  },
  {
   "cell_type": "code",
   "execution_count": null,
   "outputs": [],
   "source": [
    "buffer_log_file_path = f\"./{buffer_log}\"\n",
    "\n",
    "with open(buffer_log_file_path, \"r\") as file:\n",
    "    content = file.read()\n",
    "\n",
    "s1_data = re.search(s1_pattern, content, re.DOTALL).group(1)\n",
    "s2_data = re.search(s2_pattern, content, re.DOTALL).group(1)\n",
    "energy_connected_buffer_data = re.search(energy_connected_pattern, content, re.DOTALL).group(1)\n",
    "rise_delay_connected_buffer_data = re.search(rise_delay_connected_pattern, content, re.DOTALL).group(1)\n",
    "fall_delay_connected_buffer_data = re.search(fall_delay_connected_pattern, content, re.DOTALL).group(1)\n",
    "\n",
    "s1_lines = s1_data.strip().split('\\n')[1:]\n",
    "s2_lines = s2_data.strip().split('\\n')[1:]\n",
    "energy_connected_buffer_lines = energy_connected_buffer_data.strip().split('\\n')[1:]\n",
    "rise_delay_connected_buffer_lines = rise_delay_connected_buffer_data.strip().split('\\n')[1:]\n",
    "fall_delay_connected_buffer_lines = fall_delay_connected_buffer_data.strip().split('\\n')[1:]\n",
    "\n",
    "s1 = [float(line.split('\\t')[1]) for line in s1_lines]\n",
    "s2 = [float(line.split('\\t')[1]) for line in s2_lines]\n",
    "energy_connected_buffer = [float(line.split('\\t')[1]) for line in energy_connected_buffer_lines]\n",
    "energy_connected_buffer = [abs(energy) for energy in energy_connected_buffer]\n",
    "rise_delay_connected_buffer = [float(line.split('\\t')[1]) for line in rise_delay_connected_buffer_lines]\n",
    "fall_delay_connected_buffer = [float(line.split('\\t')[1]) for line in fall_delay_connected_buffer_lines]\n",
    "delay_connected_buffer = rise_delay_connected_buffer\n",
    "    \n",
    "fig, (plt1, plt2) = plt.subplots(2, 1, sharex=True, figsize=(16, 6))\n",
    "plt1.legend(['S1']); plt2.legend(['S2'])\n",
    "plt1.plot(s1, label='s1', color='b')\n",
    "plt1.set_ylabel('s1 values'); plt1.set_xlabel('Monte Carlo Experiments'); plt1.set_title('S1 Trend')\n",
    "plt2.plot(s2, label='s2', color='r')\n",
    "plt2.set_xlabel('Monte Carlo Experiments'); plt2.set_ylabel('s2 values'); plt2.set_title('S2 Trend')\n",
    "plt.tight_layout()\n",
    "s1_s2_montecarlo_trend_path_image = os.path.join(images, \"s1_s2_montecarlo_trend.png\")\n",
    "check_image(s1_s2_montecarlo_trend_path_image)\n",
    "plt.savefig(s1_s2_montecarlo_trend_path_image)\n",
    "plt.show()"
   ],
   "metadata": {
    "collapsed": false,
    "is_executing": true
   },
   "id": "c0dd53c94b49635d"
  },
  {
   "cell_type": "markdown",
   "source": [
    "<h2>Minimum Inverter Connected Analysis</h2>"
   ],
   "metadata": {
    "collapsed": false,
    "ExecuteTime": {
     "end_time": "2023-11-04T19:58:28.828171200Z",
     "start_time": "2023-11-04T19:58:28.300621400Z"
    }
   },
   "id": "4e5133d98ca04554"
  },
  {
   "cell_type": "code",
   "execution_count": null,
   "outputs": [],
   "source": [
    "minimum_inverter_connected_raw_file_path = os.path.join(ltspice, \"minimum-inverter/connected/minimum_inverter_connected.raw\")\n",
    "check_file(minimum_inverter_connected_raw_file_path)\n",
    "minimum_inverter_connected_ltr = RawRead(minimum_inverter_connected_raw_file_path)\n",
    "\n",
    "minimum_inverter_connected_asc_file_path = os.path.join(ltspice, \"minimum-inverter/connected/minimum_inverter_connected.asc\")\n",
    "check_file(minimum_inverter_connected_asc_file_path)\n",
    "minimum_inverter_connected_netlist = SpiceEditor(minimum_inverter_connected_asc_file_path)\n",
    "\n",
    "minimum_inverter_connected_image_path = os.path.join(images, \"minimum_inverter_connected.png\")\n",
    "display(Image(minimum_inverter_connected_image_path))"
   ],
   "metadata": {
    "collapsed": false,
    "is_executing": true
   },
   "id": "faf5d525fdd411c9"
  },
  {
   "cell_type": "code",
   "execution_count": null,
   "outputs": [],
   "source": [
    "minimum_inverter_connected_netlist.set_parameter('l_min_pmos', l_min_pmos)\n",
    "minimum_inverter_connected_netlist.set_parameter('w_min_pmos', w_min_pmos)\n",
    "minimum_inverter_connected_netlist.set_parameter('l_min_nmos', l_min_nmos)\n",
    "minimum_inverter_connected_netlist.set_parameter('w_min_nmos', w_min_nmos)\n",
    "minimum_inverter_connected_netlist.add_instructions(\n",
    "                                rit_models,\n",
    "                                tran,\n",
    "                                \".step param run 1 2 1\",\n",
    "                                energy_connected(18, 22),\n",
    "                                rise_delay_connected(),\n",
    "                                fall_delay_connected()\n",
    "                        )\n",
    "minimum_inverter_connected_runner = SimRunner(output_folder=\"data/minimum-inverter/connected/\")\n",
    "minimum_inverter_connected_runner.run(minimum_inverter_connected_netlist)\n",
    "\n",
    "minimum_inverter_connected_log = \"\"\n",
    "for minimum_inverter_connected_raw, minimum_inverter_connected_log in minimum_inverter_connected_runner:\n",
    "    print(\"Raw file: %s, Log file: %s\" % (minimum_inverter_connected_raw, minimum_inverter_connected_log))"
   ],
   "metadata": {
    "collapsed": false,
    "is_executing": true
   },
   "id": "cd655a4fb5b3fa12"
  },
  {
   "cell_type": "code",
   "execution_count": null,
   "outputs": [],
   "source": [
    "minimum_inverter_connected_log_file_path = f\"./{minimum_inverter_connected_log}\"\n",
    "\n",
    "with open(minimum_inverter_connected_log_file_path, \"r\") as file:\n",
    "    content = file.read()\n",
    "\n",
    "energy_connected_minimum_inverter_data = re.search(energy_connected_pattern, content, re.DOTALL).group(1)\n",
    "rise_delay_connected_minimum_inverter_data = re.search(rise_delay_connected_pattern, content, re.DOTALL).group(1)\n",
    "fall_delay_connected_minimum_inverter_data = re.search(fall_delay_connected_pattern, content, re.DOTALL).group(1)\n",
    "\n",
    "energy_connected_minimum_inverter_lines = energy_connected_minimum_inverter_data.strip().split('\\n')[1:]\n",
    "rise_delay_connected_minimum_inverter_lines = rise_delay_connected_minimum_inverter_data.strip().split('\\n')[1:]\n",
    "fall_delay_connected_minimum_inverter_lines = fall_delay_connected_minimum_inverter_data.strip().split('\\n')[1:]\n",
    "\n",
    "energy_connected_minimum_inverter = [float(line.split('\\t')[1]) for line in energy_connected_minimum_inverter_lines]\n",
    "energy_connected_minimum_inverter = [abs(energy) for energy in energy_connected_minimum_inverter]\n",
    "rise_delay_connected_minimum_inverter = [float(line.split('\\t')[1]) for line in rise_delay_connected_minimum_inverter_lines]\n",
    "fall_delay_connected_minimum_inverter = [float(line.split('\\t')[1]) for line in fall_delay_connected_minimum_inverter_lines]"
   ],
   "metadata": {
    "collapsed": false,
    "is_executing": true
   },
   "id": "88623838c2c8b78a"
  },
  {
   "cell_type": "markdown",
   "source": [
    "<h2>Minimum Inverter Disconnected Analysis</h2>"
   ],
   "metadata": {
    "collapsed": false,
    "ExecuteTime": {
     "end_time": "2023-11-04T19:58:31.419242800Z",
     "start_time": "2023-11-04T19:58:31.403113900Z"
    }
   },
   "id": "ea946feb9d7e9439"
  },
  {
   "cell_type": "code",
   "execution_count": null,
   "outputs": [],
   "source": [
    "minimum_inverter_disconnected_raw_file_path = os.path.join(ltspice, \"minimum-inverter/disconnected/minimum_inverter_disconnected.raw\")\n",
    "check_file(minimum_inverter_disconnected_raw_file_path)\n",
    "minimum_inverter_disconnected_ltr = RawRead(minimum_inverter_disconnected_raw_file_path)\n",
    "\n",
    "minimum_inverter_disconnected_asc_file_path = os.path.join(ltspice, \"minimum-inverter/disconnected/minimum_inverter_disconnected.asc\")\n",
    "check_file(minimum_inverter_disconnected_asc_file_path)\n",
    "minimum_inverter_disconnected_netlist = SpiceEditor(minimum_inverter_disconnected_asc_file_path)\n",
    "\n",
    "minimum_inverter_disconnected_image_path = os.path.join(images, \"minimum_inverter_disconnected.png\")\n",
    "display(Image(minimum_inverter_disconnected_image_path))"
   ],
   "metadata": {
    "collapsed": false,
    "is_executing": true
   },
   "id": "ca6e56e95f7f8c4b"
  },
  {
   "cell_type": "code",
   "execution_count": null,
   "outputs": [],
   "source": [
    "minimum_inverter_disconnected_netlist.set_parameter('l_min_pmos', l_min_pmos)\n",
    "minimum_inverter_disconnected_netlist.set_parameter('w_min_pmos', w_min_pmos)\n",
    "minimum_inverter_disconnected_netlist.set_parameter('l_min_nmos', l_min_nmos)\n",
    "minimum_inverter_disconnected_netlist.set_parameter('w_min_nmos', w_min_nmos)\n",
    "minimum_inverter_disconnected_netlist.add_instructions(\n",
    "                                rit_models,\n",
    "                                tran,\n",
    "                                \".step param run 1 2 1\",\n",
    "                                energy_disconnected(18, 22),\n",
    "                                rise_delay_disconnected(),\n",
    "                                fall_delay_disconnected()\n",
    "                        )\n",
    "minimum_inverter_disconnected_runner = SimRunner(output_folder=\"data/minimum-inverter/disconnected/\")\n",
    "minimum_inverter_disconnected_runner.run(minimum_inverter_disconnected_netlist)\n",
    "\n",
    "minimum_inverter_disconnected_log = \"\"\n",
    "for minimum_inverter_disconnected_raw, minimum_inverter_disconnected_log in minimum_inverter_disconnected_runner:\n",
    "    print(\"Raw file: %s, Log file: %s\" % (minimum_inverter_disconnected_raw, minimum_inverter_disconnected_log))"
   ],
   "metadata": {
    "collapsed": false,
    "is_executing": true
   },
   "id": "4aef6a370dd49caf"
  },
  {
   "cell_type": "code",
   "execution_count": null,
   "outputs": [],
   "source": [
    "minimum_inverter_disconnected_log_file_path = f\"./{minimum_inverter_disconnected_log}\"\n",
    "\n",
    "with open(minimum_inverter_disconnected_log_file_path, \"r\") as file:\n",
    "    content = file.read()\n",
    "\n",
    "energy_disconnected_minimum_inverter_data = re.search(energy_disconnected_pattern, content, re.DOTALL).group(1)\n",
    "rise_delay_disconnected_minimum_inverter_data = re.search(rise_delay_disconnected_pattern, content, re.DOTALL).group(1)\n",
    "fall_delay_disconnected_minimum_inverter_data = re.search(fall_delay_disconnected_pattern, content, re.DOTALL).group(1)\n",
    "\n",
    "energy_disconnected_minimum_inverter_lines = energy_disconnected_minimum_inverter_data.strip().split('\\n')[1:]\n",
    "rise_delay_disconnected_minimum_inverter_lines = rise_delay_disconnected_minimum_inverter_data.strip().split('\\n')[1:]\n",
    "fall_delay_disconnected_minimum_inverter_lines = fall_delay_disconnected_minimum_inverter_data.strip().split('\\n')[1:]\n",
    "\n",
    "energy_disconnected_minimum_inverter = [float(line.split('\\t')[1]) for line in energy_disconnected_minimum_inverter_lines]\n",
    "energy_disconnected_minimum_inverter = [abs(energy) for energy in energy_disconnected_minimum_inverter]\n",
    "rise_delay_disconnected_minimum_inverter = [float(line.split('\\t')[1]) for line in rise_delay_disconnected_minimum_inverter_lines]\n",
    "fall_delay_disconnected_minimum_inverter = [float(line.split('\\t')[1]) for line in fall_delay_disconnected_minimum_inverter_lines]\n",
    "delay_disconnected_minimum_inverter = rise_delay_disconnected_minimum_inverter"
   ],
   "metadata": {
    "collapsed": false,
    "is_executing": true
   },
   "id": "607c7a7ba246d9cc"
  },
  {
   "cell_type": "markdown",
   "source": [
    "<h2>Overall Buffer Analysis via Monte Carlo Experiments</h2>"
   ],
   "metadata": {
    "collapsed": false,
    "ExecuteTime": {
     "end_time": "2023-11-04T19:58:34.031110600Z",
     "start_time": "2023-11-04T19:58:34.023339900Z"
    }
   },
   "id": "c10410c6abf146cd"
  },
  {
   "cell_type": "code",
   "execution_count": null,
   "outputs": [],
   "source": [
    "plt.scatter(delay_connected_buffer, energy_connected_buffer, edgecolors='black')\n",
    "plt.xlabel('Delay'); plt.ylabel('Energy'); plt.title('Monte Carlo Experiments')\n",
    "plt.tight_layout()\n",
    "scatter_montecarlo_experiments_path_image = os.path.join(images, \"montecarlo_experiments.png\")\n",
    "check_image(scatter_montecarlo_experiments_path_image)\n",
    "plt.savefig(scatter_montecarlo_experiments_path_image)\n",
    "plt.show()"
   ],
   "metadata": {
    "collapsed": false,
    "is_executing": true
   },
   "id": "38ef53e8ccdd6404"
  },
  {
   "cell_type": "code",
   "execution_count": null,
   "outputs": [],
   "source": [
    "vdd = 1\n",
    "c_tot = [energy / (vdd*vdd) for energy in energy_connected_minimum_inverter]\n",
    "c_out = [energy / (vdd*vdd) for energy in energy_disconnected_minimum_inverter]\n",
    "c_in = [c_tot - c_out for c_tot, c_out in zip(c_tot, c_out)]\n",
    "c_min = c_in[0]\n",
    "print(f\"c_min = {c_min}\")\n",
    "c_min_for_optimization = to_order(c_min, Order.FEMTO)\n",
    "print(f\"c_min_for_optimization = {c_min_for_optimization}\")\n",
    "gamma_e = [c_out / c_in for c_out, c_in in zip(c_out, c_in)]\n",
    "print(f\"gamma_e_max = {max(gamma_e)}\")\n",
    "print(f\"gamma_e_min = {min(gamma_e)}\")\n",
    "gamma_e = st.mean(gamma_e)\n",
    "print(f\"gamma_e = {gamma_e}\")"
   ],
   "metadata": {
    "collapsed": false,
    "is_executing": true
   },
   "id": "d1884053cdcd3f54"
  },
  {
   "cell_type": "code",
   "execution_count": null,
   "outputs": [],
   "source": [
    "tau_nom = delay_disconnected_minimum_inverter\n",
    "tau_nom = st.mean(tau_nom)\n",
    "print(f\"tau_nom = {tau_nom}\")\n",
    "tau_nom_for_optimization = to_order(tau_nom, Order.PICO)\n",
    "print(f\"tau_nom_for_optimization = {tau_nom_for_optimization}\")\n",
    "tau_tot = delay_connected_buffer\n",
    "s_load = 50\n",
    "temp1 = [tau_nom / (tau_tot-(3*tau_nom)) for tau_tot in tau_tot]\n",
    "temp2 = [s1 + (s2/s1) + (s_load/s2) for s1, s2 in zip(s1, s2)]\n",
    "gamma_d =  [tmp1 * tmp2 for tmp1, tmp2 in zip(temp1, temp2)]\n",
    "print(f\"gamma_d_max = {max(gamma_d)}\")\n",
    "print(f\"gamma_d_min = {min(gamma_d)}\")\n",
    "gamma_d = st.mean( gamma_d )\n",
    "print(f\"gamma_d = {gamma_d}\")"
   ],
   "metadata": {
    "collapsed": false,
    "is_executing": true
   },
   "id": "1f3a24db63893728"
  },
  {
   "cell_type": "markdown",
   "source": [
    "<h1>Optmization</h1>"
   ],
   "metadata": {
    "collapsed": false,
    "ExecuteTime": {
     "end_time": "2023-11-04T19:58:34.377899900Z",
     "start_time": "2023-11-04T19:58:34.367381300Z"
    }
   },
   "id": "ecff47a2c98ca1a6"
  },
  {
   "cell_type": "code",
   "execution_count": null,
   "outputs": [],
   "source": [
    "optimal_results = []\n",
    "\n",
    "c_min = c_min_for_optimization\n",
    "tau_nom = tau_nom_for_optimization\n",
    "s0 = [10, 10]\n",
    "max_iter = 10000\n",
    "\n",
    "var1_values = []\n",
    "var2_values = []\n",
    "delay_values = []\n",
    "\n",
    "d_max = 510\n",
    "d_min = 100\n",
    "step = 10\n",
    "\n",
    "for delay in range(d_max, d_min - 1, -step):\n",
    "    variables, energy_value, iteration_count = optimize_considering_delay(delay, tau_nom, gamma_d, s_load, vdd, c_min, gamma_e, s0, max_iter)\n",
    "    optimal_results.append((delay, variables, energy_value, iteration_count))\n",
    "    \n",
    "    var1_values.append(variables[0])\n",
    "    var2_values.append(variables[1])\n",
    "    delay_values.append(delay)\n",
    "\n",
    "plt.plot(delay_values, var1_values, label='S1')\n",
    "plt.plot(delay_values, var2_values, label='S2')\n",
    "plt.legend()\n",
    "plt.xlabel('Delay'); plt.ylabel('Factor Sizing'); plt.title('Optimal Factor Sizing Trend')\n",
    "s1_s2_optimized_path_image = os.path.join(images, \"s1_s2_optimized.png\")\n",
    "check_image(s1_s2_optimized_path_image)\n",
    "plt.savefig(s1_s2_optimized_path_image)\n",
    "plt.show()\n",
    "\n",
    "print(\"{:<10} {:<30} {:<35} {:<15}\".format(\"delay\", \"optimal_point\", \"objective_f_value\", \"iterations\"))\n",
    "for delay, variables, energy_value, iteration_count in optimal_results:\n",
    "    print(\"{:<10} {:<30} {:<35} {:<15}\".format(delay, str(variables), energy_value, iteration_count))"
   ],
   "metadata": {
    "collapsed": false,
    "is_executing": true
   },
   "id": "ec71119f97e680e9"
  },
  {
   "cell_type": "markdown",
   "source": [
    "<h2>Comparative Analysis</h2>"
   ],
   "metadata": {
    "collapsed": false,
    "ExecuteTime": {
     "end_time": "2023-11-04T19:58:36.110090900Z",
     "start_time": "2023-11-04T19:58:34.383408400Z"
    }
   },
   "id": "8bac44da0f6badee"
  },
  {
   "cell_type": "code",
   "execution_count": null,
   "outputs": [],
   "source": [
    "buffer_optimized_raw_file_path = os.path.join(ltspice, \"buffer/optimized/buffer_optimized.raw\")\n",
    "check_file(buffer_optimized_raw_file_path)\n",
    "buffer_optimized_ltr = RawRead(buffer_optimized_raw_file_path)\n",
    "\n",
    "buffer_optimized_asc_file_path = os.path.join(ltspice, \"buffer/optimized/buffer_optimized.asc\")\n",
    "check_file(buffer_optimized_asc_file_path)\n",
    "buffer_optimized_netlist = SpiceEditor(buffer_optimized_asc_file_path)\n",
    "\n",
    "buffer_optimized_image_path = os.path.join(images, \"buffer_optimized.png\")\n",
    "display(Image(buffer_optimized_image_path))"
   ],
   "metadata": {
    "collapsed": false,
    "is_executing": true
   },
   "id": "e2a62c65a9df05cb"
  },
  {
   "cell_type": "code",
   "execution_count": null,
   "outputs": [],
   "source": [
    "n_runs_optimized = ((d_max - d_min)/step) + 1\n",
    "\n",
    "tmp_s1 = [(str(var1)+\",\" if var1!=var1_values[len(var1_values)-1] else str(var1)) for var1 in var1_values]\n",
    "s1_table_optimized = \"\"\n",
    "for item in tmp_s1:\n",
    "    s1_table_optimized = s1_table_optimized + item\n",
    "tmp_s2 = [(str(var2)+\",\" if var2!=var2_values[len(var2_values)-1] else str(var2)) for var2 in var2_values]\n",
    "s2_table_optimized = \"\"\n",
    "for item in tmp_s2:\n",
    "    s2_table_optimized = s2_table_optimized + item\n",
    "\n",
    "S1_optimized = f' table(index,{s1_table_optimized})'\n",
    "S2_optimized = f' table(index,{s2_table_optimized})'\n",
    "\n",
    "buffer_optimized_netlist.set_parameter('l_min_pmos', l_min_pmos)\n",
    "buffer_optimized_netlist.set_parameter('w_min_pmos', w_min_pmos)\n",
    "buffer_optimized_netlist.set_parameter('l_min_nmos', l_min_nmos)\n",
    "buffer_optimized_netlist.set_parameter('w_min_nmos', w_min_nmos)\n",
    "buffer_optimized_netlist.set_parameter('S1', S1_optimized)\n",
    "buffer_optimized_netlist.set_parameter('S2', S2_optimized)\n",
    "buffer_optimized_netlist.set_parameter('S_LOAD', S_LOAD)\n",
    "buffer_optimized_netlist.add_instructions(\n",
    "                                rit_models,\n",
    "                                tran,\n",
    "                                f\".step param index 1 {n_runs_optimized} 1\",\n",
    "                                energy_connected(13,22),\n",
    "                                rise_delay_connected(),\n",
    "                                fall_delay_connected()\n",
    "                        )\n",
    "buffer_optimized_runner = SimRunner(output_folder=\"data/buffer/optimized/\")\n",
    "buffer_optimized_runner.run(buffer_optimized_netlist)\n",
    "\n",
    "buffer_optimized_log = \"\"\n",
    "for buffer_optimized_raw, buffer_optimized_log in buffer_optimized_runner:\n",
    "    print(\"Raw file: %s, Log file: %s\" % (buffer_optimized_raw, buffer_optimized_log))"
   ],
   "metadata": {
    "collapsed": false,
    "is_executing": true
   },
   "id": "7329c665b4ac8cec"
  },
  {
   "cell_type": "code",
   "execution_count": null,
   "outputs": [],
   "source": [
    "v_in_buffer_optimized = buffer_optimized_ltr.get_trace(\"V(in)\")\n",
    "v_out_buffer_optimized = buffer_optimized_ltr.get_trace(\"V(out)\")\n",
    "v_supply_buffer_optimized = buffer_optimized_ltr.get_trace(\"V(supply)\")\n",
    "time = buffer_optimized_ltr.get_trace('time')\n",
    "steps = buffer_optimized_ltr.get_steps()\n",
    "\n",
    "plt.figure(figsize=(16, 4))\n",
    "for step in range(len(steps)):\n",
    "    plt.plot(time.get_wave(step), v_in_buffer_optimized.get_wave(step), label=steps[step], color='blue')\n",
    "    plt.plot(time.get_wave(step), v_out_buffer_optimized.get_wave(step), label=steps[step], color='red')\n",
    "    plt.plot(time.get_wave(step), v_supply_buffer_optimized.get_wave(step), label=steps[step], color='green')\n",
    "plt.legend([\"V(in)\", \"V(out)\", \"V(supply)\"])\n",
    "buffer_optimized_simulation_path_image = os.path.join(images, \"buffer_optimized_simulation.png\")\n",
    "check_image(buffer_optimized_simulation_path_image)\n",
    "plt.savefig(buffer_optimized_simulation_path_image)\n",
    "plt.show()"
   ],
   "metadata": {
    "collapsed": false,
    "is_executing": true
   },
   "id": "a86953018e14ba35"
  },
  {
   "cell_type": "code",
   "execution_count": null,
   "outputs": [],
   "source": [
    "buffer_optimized_log_file_path = f\"./{buffer_optimized_log}\"\n",
    "\n",
    "with open(buffer_optimized_log_file_path, \"r\") as file:\n",
    "    content = file.read()\n",
    "\n",
    "energy_connected_buffer_optimized_data = re.search(energy_connected_pattern, content, re.DOTALL).group(1)\n",
    "rise_delay_connected_buffer_optimized_data = re.search(rise_delay_connected_pattern, content, re.DOTALL).group(1)\n",
    "fall_delay_connected_buffer_optimized_data = re.search(fall_delay_connected_pattern, content, re.DOTALL).group(1)\n",
    "\n",
    "energy_connected_buffer_optimized_lines = energy_connected_buffer_optimized_data.strip().split('\\n')[1:]\n",
    "rise_delay_connected_buffer_optimized_lines = rise_delay_connected_buffer_optimized_data.strip().split('\\n')[1:]\n",
    "fall_delay_connected_buffer_optimized_lines = fall_delay_connected_buffer_optimized_data.strip().split('\\n')[1:]\n",
    "\n",
    "energy_connected_buffer_optimized = [float(line.split('\\t')[1]) for line in energy_connected_buffer_optimized_lines]\n",
    "energy_connected_buffer_optimized = [abs(energy) for energy in energy_connected_buffer_optimized]\n",
    "rise_delay_connected_buffer_optimized = [float(line.split('\\t')[1]) for line in rise_delay_connected_buffer_optimized_lines]\n",
    "fall_delay_connected_buffer_optimized = [float(line.split('\\t')[1]) for line in fall_delay_connected_buffer_optimized_lines]\n",
    "delay_connected_buffer_optimized = rise_delay_connected_buffer_optimized"
   ],
   "metadata": {
    "collapsed": false,
    "is_executing": true
   },
   "id": "b50dc5d60208124c"
  },
  {
   "cell_type": "code",
   "execution_count": null,
   "outputs": [],
   "source": [
    "plt.plot(delay_connected_buffer_optimized, energy_connected_buffer_optimized, color='red')\n",
    "plt.xlabel('Delay'); plt.ylabel('Energy'); plt.title('Energy-Delay Curve')\n",
    "plt.tight_layout()\n",
    "plt.legend([\"Energy-Delay Curve\"])\n",
    "energy_delay_curve_path_image = os.path.join(images, \"energy_delay_curve.png\")\n",
    "check_image(energy_delay_curve_path_image)\n",
    "plt.savefig(energy_delay_curve_path_image)\n",
    "plt.show()"
   ],
   "metadata": {
    "collapsed": false,
    "is_executing": true
   },
   "id": "ac619ad12bafa5a3"
  },
  {
   "cell_type": "code",
   "execution_count": null,
   "outputs": [],
   "source": [
    "plt.scatter(delay_connected_buffer, energy_connected_buffer, edgecolors='black')\n",
    "plt.plot(delay_connected_buffer_optimized, energy_connected_buffer_optimized, color='red')\n",
    "plt.xlabel('Delay'); plt.ylabel('Energy'); plt.title('Monte Carlo Experiments and Energy-Delay Curve')\n",
    "plt.tight_layout()\n",
    "plt.legend([\"Monte Carlo Experiments\", \"Energy-Delay Curve\"])\n",
    "comparative_analysis_path_image = os.path.join(images, \"comparative_analysis.png\")\n",
    "check_image(comparative_analysis_path_image)\n",
    "plt.savefig(comparative_analysis_path_image)\n",
    "plt.show()"
   ],
   "metadata": {
    "collapsed": false,
    "is_executing": true
   },
   "id": "40d5abb5bfd4876e"
  },
  {
   "cell_type": "markdown",
   "source": [
    "<h1>To MATLAB</h1>"
   ],
   "metadata": {
    "collapsed": false
   },
   "id": "86545dafc85f9b16"
  },
  {
   "cell_type": "code",
   "execution_count": null,
   "outputs": [],
   "source": [
    "data_to_matlab_directory = \"../../matlab/\"\n",
    "data_to_matlab_file = \"buffer_data.txt\"\n",
    "data_to_matlab_file_path = os.path.join(data_to_matlab_directory, data_to_matlab_file)\n",
    "\n",
    "with open(data_to_matlab_file_path, \"w\") as file:\n",
    "    file.truncate(0)\n",
    "    file.write(f\"{vdd}\\n\")\n",
    "    file.write(f\"{c_min}\\n\")\n",
    "    file.write(f\"{gamma_e}\\n\")\n",
    "    file.write(f\"{tau_nom}\\n\")\n",
    "    file.write(f\"{gamma_d}\\n\")\n",
    "    file.write(f\"{S_LOAD}\\n\")\n",
    "    file.write(f\"{s0[0]}\\n\")\n",
    "    file.write(f\"{s0[1]}\\n\")\n",
    "    file.write(f\"{d_max}\\n\")\n",
    "    file.write(f\"{d_min}\\n\")\n",
    "\n",
    "print(f\"Variables written successfully: {data_to_matlab_file_path}\")\n"
   ],
   "metadata": {
    "collapsed": false,
    "is_executing": true
   },
   "id": "a1a775b5987f8815"
  },
  {
   "cell_type": "markdown",
   "source": [
    "<h1>From MATLAB</h1>\n",
    "<strong>At this point you need to open MATLAB and run the '../../matlab/optimization' script so as to generate the optimized values of the sizing factors S1 and S2 and make a comparison between those generated by the 'fmincon' optimization algorithm present in MATLAB and those generated by the algorithm scipy.minimize optimization tool of type 'SLSQP'. Therefore, you will be asked if you can continue with the execution. This will only be possible by entering the word 'continue' in the popup window which will indicate that the MATLAB script has been executed and you can continue with the execution of the Jupyter notebook. Obviously this popup window is indicative. So much so that in the case of invalid input, execution continues as the exception is caught and handled. It is just to remind the user that before executing the next code it is necessary to execute the MATLAB script '../../matlab/optimization' because otherwise there would be a risk of generating errors or inconsistent results.</strong>"
   ],
   "metadata": {
    "collapsed": false
   },
   "id": "587c629dec704e56"
  },
  {
   "cell_type": "code",
   "execution_count": null,
   "outputs": [],
   "source": [
    "try:\n",
    "    user_input = input(\"Write 'continue' if and only if the MATLAB script has been launched: \")\n",
    "    if user_input.lower() == 'continue':\n",
    "        print(\"You entered 'continue'. The execution continues.\")\n",
    "    else:\n",
    "        raise ValueError(\"Input other than 'continue'. Execution stopped.\")\n",
    "except ValueError as e:\n",
    "    print(\"Error:\", e)\n"
   ],
   "metadata": {
    "collapsed": false,
    "is_executing": true
   },
   "id": "50d71d23968333dd"
  },
  {
   "cell_type": "code",
   "execution_count": null,
   "outputs": [],
   "source": [
    "data_from_matlab_directory = \"../../matlab/data\"\n",
    "s1_data_from_matlab_file = \"s1_data.txt\"\n",
    "s2_data_from_matlab_file = \"s2_data.txt\"\n",
    "s1_data_from_matlab_file_path = os.path.join(data_from_matlab_directory, s1_data_from_matlab_file)\n",
    "s2_data_from_matlab_file_path = os.path.join(data_from_matlab_directory, s2_data_from_matlab_file)\n",
    "with open(s1_data_from_matlab_file_path, 'r') as s1_file:\n",
    "    s1_lines = s1_file.readlines()\n",
    "with open(s2_data_from_matlab_file_path, 'r') as s2_file:\n",
    "    s2_lines = s2_file.readlines()\n",
    "\n",
    "s1_from_matlab = []\n",
    "s2_from_matlab = []\n",
    "\n",
    "for line in s1_lines:\n",
    "    columns = line.split()\n",
    "    if columns:\n",
    "        s1_value = columns[0]\n",
    "        s1_from_matlab.append(float(s1_value))\n",
    "for line in s2_lines:\n",
    "    columns = line.split()\n",
    "    if columns:\n",
    "        s2_value = columns[0]\n",
    "        s2_from_matlab.append(float(s2_value))"
   ],
   "metadata": {
    "collapsed": false,
    "is_executing": true
   },
   "id": "ab9ff0eab0aa652b"
  },
  {
   "cell_type": "code",
   "execution_count": null,
   "outputs": [],
   "source": [
    "buffer_optimized_raw_file_path = os.path.join(ltspice, \"buffer/optimized/buffer_optimized.raw\")\n",
    "check_file(buffer_optimized_raw_file_path)\n",
    "buffer_optimized_ltr = RawRead(buffer_optimized_raw_file_path)\n",
    "\n",
    "buffer_optimized_asc_file_path = os.path.join(ltspice, \"buffer/optimized/buffer_optimized.asc\")\n",
    "check_file(buffer_optimized_asc_file_path)\n",
    "buffer_optimized_netlist = SpiceEditor(buffer_optimized_asc_file_path)\n",
    "\n",
    "buffer_optimized_image_path = os.path.join(images, \"buffer_optimized.png\")\n",
    "display(Image(buffer_optimized_image_path))"
   ],
   "metadata": {
    "collapsed": false,
    "is_executing": true
   },
   "id": "1331901827f34c88"
  },
  {
   "cell_type": "code",
   "execution_count": null,
   "outputs": [],
   "source": [
    "n_runs_optimized = ((d_max - d_min)/step) + 1\n",
    "\n",
    "tmp_s1_from_matlab = [(str(var1)+\",\" if var1!=s1_from_matlab[len(s1_from_matlab)-1] else str(var1)) for var1 in s1_from_matlab]\n",
    "s1_table_optimized_from_matlab = \"\"\n",
    "for item in tmp_s1_from_matlab:\n",
    "    s1_table_optimized_from_matlab = s1_table_optimized_from_matlab + item\n",
    "tmp_s2_from_matlab = [(str(var2)+\",\" if var2!=s2_from_matlab[len(s2_from_matlab)-1] else str(var2)) for var2 in s2_from_matlab]\n",
    "s2_table_optimized_from_matlab = \"\"\n",
    "for item in tmp_s2_from_matlab:\n",
    "    s2_table_optimized_from_matlab = s2_table_optimized_from_matlab + item\n",
    "\n",
    "S1_optimized = f' table(index,{s1_table_optimized_from_matlab})'\n",
    "print(S1_optimized)\n",
    "S2_optimized = f' table(index,{s2_table_optimized_from_matlab})'\n",
    "print(S2_optimized)\n",
    "\n",
    "buffer_optimized_netlist.set_parameter('l_min_pmos', l_min_pmos)\n",
    "buffer_optimized_netlist.set_parameter('w_min_pmos', w_min_pmos)\n",
    "buffer_optimized_netlist.set_parameter('l_min_nmos', l_min_nmos)\n",
    "buffer_optimized_netlist.set_parameter('w_min_nmos', w_min_nmos)\n",
    "buffer_optimized_netlist.set_parameter('S1', S1_optimized)\n",
    "buffer_optimized_netlist.set_parameter('S2', S2_optimized)\n",
    "buffer_optimized_netlist.set_parameter('S_LOAD', S_LOAD)\n",
    "buffer_optimized_netlist.add_instructions(\n",
    "                                rit_models,\n",
    "                                tran,\n",
    "                                f\".step param index 1 {n_runs_optimized} 1\",\n",
    "                                energy_connected(13,22),\n",
    "                                rise_delay_connected(),\n",
    "                                fall_delay_connected()\n",
    "                        )\n",
    "buffer_optimized_runner = SimRunner(output_folder=\"data/buffer/optimized/\")\n",
    "buffer_optimized_runner.run(buffer_optimized_netlist)\n",
    "\n",
    "buffer_optimized_log = \"\"\n",
    "for buffer_optimized_raw, buffer_optimized_log in buffer_optimized_runner:\n",
    "    print(\"Raw file: %s, Log file: %s\" % (buffer_optimized_raw, buffer_optimized_log))"
   ],
   "metadata": {
    "collapsed": false,
    "is_executing": true
   },
   "id": "28b79c1f5428584b"
  },
  {
   "cell_type": "code",
   "execution_count": null,
   "outputs": [],
   "source": [
    "buffer_optimized_log_file_path = f\"./{buffer_optimized_log}\"\n",
    "\n",
    "with open(buffer_optimized_log_file_path, \"r\") as file:\n",
    "    content = file.read()\n",
    "\n",
    "energy_connected_buffer_optimized_data = re.search(energy_connected_pattern, content, re.DOTALL).group(1)\n",
    "rise_delay_connected_buffer_optimized_data = re.search(rise_delay_connected_pattern, content, re.DOTALL).group(1)\n",
    "fall_delay_connected_buffer_optimized_data = re.search(fall_delay_connected_pattern, content, re.DOTALL).group(1)\n",
    "\n",
    "energy_connected_buffer_optimized_lines = energy_connected_buffer_optimized_data.strip().split('\\n')[1:]\n",
    "rise_delay_connected_buffer_optimized_lines = rise_delay_connected_buffer_optimized_data.strip().split('\\n')[1:]\n",
    "fall_delay_connected_buffer_optimized_lines = fall_delay_connected_buffer_optimized_data.strip().split('\\n')[1:]\n",
    "\n",
    "energy_connected_buffer_optimized = [float(line.split('\\t')[1]) for line in energy_connected_buffer_optimized_lines]\n",
    "energy_connected_buffer_optimized = [abs(energy) for energy in energy_connected_buffer_optimized]\n",
    "rise_delay_connected_buffer_optimized = [float(line.split('\\t')[1]) for line in rise_delay_connected_buffer_optimized_lines]\n",
    "fall_delay_connected_buffer_optimized = [float(line.split('\\t')[1]) for line in fall_delay_connected_buffer_optimized_lines]\n",
    "delay_connected_buffer_optimized = rise_delay_connected_buffer_optimized"
   ],
   "metadata": {
    "collapsed": false,
    "is_executing": true
   },
   "id": "484f4d074f90d74a"
  },
  {
   "cell_type": "code",
   "execution_count": null,
   "outputs": [],
   "source": [
    "plt.plot(delay_connected_buffer_optimized, energy_connected_buffer_optimized, color='red')\n",
    "plt.xlabel('Delay'); plt.ylabel('Energy'); plt.title('Energy-Delay Curve')\n",
    "plt.tight_layout()\n",
    "plt.legend([\"Energy-Delay Curve\"])\n",
    "energy_delay_curve_path_image = os.path.join(images, \"energy_delay_curve.png\")\n",
    "check_image(energy_delay_curve_path_image)\n",
    "plt.savefig(energy_delay_curve_path_image)\n",
    "plt.show()"
   ],
   "metadata": {
    "collapsed": false,
    "is_executing": true
   },
   "id": "56e5555a049285cd"
  },
  {
   "cell_type": "code",
   "execution_count": null,
   "outputs": [],
   "source": [
    "plt.scatter(delay_connected_buffer, energy_connected_buffer, edgecolors='black')\n",
    "plt.plot(delay_connected_buffer_optimized, energy_connected_buffer_optimized, color='red')\n",
    "plt.xlabel('Delay'); plt.ylabel('Energy'); plt.title('Monte Carlo Experiments and Energy-Delay Curve')\n",
    "plt.tight_layout()\n",
    "plt.legend([\"Monte Carlo Experiments\", \"Energy-Delay Curve\"])\n",
    "comparative_analysis_path_image = os.path.join(images, \"comparative_analysis.png\")\n",
    "check_image(comparative_analysis_path_image)\n",
    "plt.savefig(comparative_analysis_path_image)\n",
    "plt.show()"
   ],
   "metadata": {
    "collapsed": false,
    "is_executing": true
   },
   "id": "2ea041870ab2a480"
  }
 ],
 "metadata": {
  "kernelspec": {
   "display_name": "Python 3",
   "language": "python",
   "name": "python3"
  },
  "language_info": {
   "codemirror_mode": {
    "name": "ipython",
    "version": 2
   },
   "file_extension": ".py",
   "mimetype": "text/x-python",
   "name": "python",
   "nbconvert_exporter": "python",
   "pygments_lexer": "ipython2",
   "version": "2.7.6"
  }
 },
 "nbformat": 4,
 "nbformat_minor": 5
}
